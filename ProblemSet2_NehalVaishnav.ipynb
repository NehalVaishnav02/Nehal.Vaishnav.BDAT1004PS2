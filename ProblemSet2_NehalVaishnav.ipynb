{
 "cells": [
  {
   "cell_type": "markdown",
   "id": "55887d44",
   "metadata": {},
   "source": [
    "# PROBLEM SET-2\n",
    "\n"
   ]
  },
  {
   "cell_type": "markdown",
   "id": "7ef8b383",
   "metadata": {},
   "source": [
    "# Question-1"
   ]
  },
  {
   "cell_type": "code",
   "execution_count": 17,
   "id": "8d0bc126",
   "metadata": {},
   "outputs": [
    {
     "name": "stdout",
     "output_type": "stream",
     "text": [
      "When it is imported a is initialized to 0 and functions b and c are defined. When the b() is called for thefirst time it access the global variable a which is 0 and the argument is further passed to c().Then c() adds value 2to the value of a and it returns the value to b().\n",
      "\n",
      " Then b() is called again and it retrieves the global variable a which hasnow value 2 then it passes the argument to the c(), now c() add value 2 to the value of a and returns the result 4 whichis the new value of variable a.\n",
      "\n",
      " b() is now called for the third time and it access the global variable a which has now value 4it passes the argument to the c(), now c() add value 2 to the value of a and returns the result 6.Therefore the value of globalvariable a is 6.\n",
      "Value of a is given below\n",
      "6\n"
     ]
    }
   ],
   "source": [
    "a = 0\n",
    "def b():\n",
    " global a\n",
    " a = c(a)\n",
    "def c(a):\n",
    " return a + 2\n",
    "\n",
    "b()\n",
    "b()\n",
    "b()\n",
    "\n",
    "print(\"When it is imported a is initialized to 0 and functions b and c are defined. When the b() is called for the\"\n",
    "       \"first time it access the global variable a which is 0 and the argument is further passed to c().Then c() adds value 2\"\n",
    "      \"to the value of a and it returns the value to b().\\n\\n Then b() is called again and it retrieves the global variable a which has\"\n",
    "      \"now value 2 then it passes the argument to the c(), now c() add value 2 to the value of a and returns the result 4 which\"\n",
    "      \"is the new value of variable a.\\n\\n b() is now called for the third time and it access the global variable a which has now value 4\"\n",
    "      \"it passes the argument to the c(), now c() add value 2 to the value of a and returns the result 6.Therefore the value of global\"\n",
    "      \"variable a is 6.\")\n",
    "\n",
    "print(\"Value of a is given below\" )\n",
    "\n",
    "print(a)"
   ]
  },
  {
   "cell_type": "markdown",
   "id": "e1a1bc85",
   "metadata": {},
   "source": [
    "# Question-2"
   ]
  },
  {
   "cell_type": "code",
   "execution_count": 23,
   "id": "c2a6c5b5",
   "metadata": {},
   "outputs": [
    {
     "name": "stdout",
     "output_type": "stream",
     "text": [
      "123\n",
      "File C:/Users/nehal/Pfile.txt not found.\n"
     ]
    }
   ],
   "source": [
    "def fileLength(filename):\n",
    "    try:\n",
    "        infile = open(filename)\n",
    "        contents = infile.read()\n",
    "        infile.close()\n",
    "        print(len(contents))\n",
    "    except FileNotFoundError:\n",
    "        print(f\"File {filename} not found.\")\n",
    "    except:\n",
    "        print(\"An error occurred while reading the file.\")\n",
    "\n",
    "\n",
    "fileLength(\"C:/Users/nehal/Psfile.txt\")\n",
    "fileLength(\"C:/Users/nehal/Pfile.txt\")"
   ]
  },
  {
   "cell_type": "markdown",
   "id": "998f4094",
   "metadata": {},
   "source": [
    "# Question-3\n"
   ]
  },
  {
   "cell_type": "code",
   "execution_count": 28,
   "id": "6c58e225",
   "metadata": {},
   "outputs": [
    {
     "name": "stdout",
     "output_type": "stream",
     "text": [
      "['doll', 'firetruck', 'kitten']\n",
      "I am a Kangaroo located at coordinates (0,0)\n",
      "['doll', 'firetruck', 'kitten']\n",
      "I am a Kangaroo located at coordinates (3,0)\n"
     ]
    }
   ],
   "source": [
    "class Marsupial:\n",
    "    def __init__(self):\n",
    "        self.pouch = []\n",
    "        \n",
    "    def put_in_pouch(self, item):\n",
    "        self.pouch.append(item)\n",
    "        \n",
    "    def pouch_contents(self):\n",
    "        return self.pouch\n",
    "        \n",
    "m = Marsupial()\n",
    "m.put_in_pouch('doll')\n",
    "m.put_in_pouch('firetruck')\n",
    "m.put_in_pouch('kitten')\n",
    "print(m.pouch_contents())\n",
    "\n",
    "class Kangaroo(Marsupial):\n",
    "    def __init__(self, x=0, y=0):\n",
    "        super().__init__()\n",
    "        self.x = x\n",
    "        self.y = y\n",
    "        \n",
    "    def jump(self, dx, dy):\n",
    "        self.x += dx\n",
    "        self.y += dy\n",
    "        \n",
    "    def __str__(self):\n",
    "        return f\"I am a Kangaroo located at coordinates ({self.x},{self.y})\"\n",
    "\n",
    "k = Kangaroo(0,0)\n",
    "print(k)  \n",
    "\n",
    "k.put_in_pouch('doll')\n",
    "k.put_in_pouch('firetruck')\n",
    "k.put_in_pouch('kitten')\n",
    "print(k.pouch_contents())  \n",
    "\n",
    "k.jump(1,0)\n",
    "k.jump(1,0)\n",
    "k.jump(1,0)\n",
    "print(k)  "
   ]
  },
  {
   "cell_type": "markdown",
   "id": "957fe668",
   "metadata": {},
   "source": [
    "# Question-4"
   ]
  },
  {
   "cell_type": "code",
   "execution_count": 36,
   "id": "09e86498",
   "metadata": {},
   "outputs": [
    {
     "name": "stdout",
     "output_type": "stream",
     "text": [
      "1\n",
      "---------\n",
      "10\n",
      "5\n",
      "16\n",
      "8\n",
      "4\n",
      "2\n",
      "1\n"
     ]
    }
   ],
   "source": [
    "def collatz(x):\n",
    "    print(x)\n",
    "    if x == 1:\n",
    "        return \n",
    "    elif x % 2 == 0:\n",
    "        collatz(x//2)\n",
    "    else:\n",
    "        collatz(3*x+1)\n",
    "        \n",
    "collatz(1)\n",
    "print(\"---------\")\n",
    "collatz(10)\n",
    "\n"
   ]
  },
  {
   "cell_type": "markdown",
   "id": "04f09950",
   "metadata": {},
   "source": [
    "# Question-5"
   ]
  },
  {
   "cell_type": "code",
   "execution_count": 39,
   "id": "e9614b0d",
   "metadata": {},
   "outputs": [
    {
     "name": "stdout",
     "output_type": "stream",
     "text": [
      "0\n",
      "\n",
      "1\n",
      "\n",
      "11\n",
      "\n",
      "1001"
     ]
    }
   ],
   "source": [
    "def binary(n):\n",
    "    if n > 1:\n",
    "        binary(n // 2)\n",
    "    print(n % 2, end='')\n",
    "    \n",
    "binary(0)\n",
    "print(\"\\n\")\n",
    "binary(1)\n",
    "print(\"\\n\")\n",
    "binary(3)\n",
    "print(\"\\n\")\n",
    "binary(9)"
   ]
  },
  {
   "cell_type": "markdown",
   "id": "271dc2b9",
   "metadata": {},
   "source": [
    "# Question-6"
   ]
  },
  {
   "cell_type": "code",
   "execution_count": 40,
   "id": "12decbdf",
   "metadata": {},
   "outputs": [
    {
     "ename": "NameError",
     "evalue": "name 'HTMLParser' is not defined",
     "output_type": "error",
     "traceback": [
      "\u001b[1;31m---------------------------------------------------------------------------\u001b[0m",
      "\u001b[1;31mNameError\u001b[0m                                 Traceback (most recent call last)",
      "\u001b[1;32m~\\AppData\\Local\\Temp\\ipykernel_16404\\2228395114.py\u001b[0m in \u001b[0;36m<module>\u001b[1;34m\u001b[0m\n\u001b[1;32m----> 1\u001b[1;33m \u001b[1;32mclass\u001b[0m \u001b[0mHeadingParser\u001b[0m\u001b[1;33m(\u001b[0m\u001b[0mHTMLParser\u001b[0m\u001b[1;33m)\u001b[0m\u001b[1;33m:\u001b[0m\u001b[1;33m\u001b[0m\u001b[1;33m\u001b[0m\u001b[0m\n\u001b[0m\u001b[0;32m      2\u001b[0m     \u001b[1;32mdef\u001b[0m \u001b[0m__init__\u001b[0m\u001b[1;33m(\u001b[0m\u001b[0mself\u001b[0m\u001b[1;33m)\u001b[0m\u001b[1;33m:\u001b[0m\u001b[1;33m\u001b[0m\u001b[1;33m\u001b[0m\u001b[0m\n\u001b[0;32m      3\u001b[0m         \u001b[0msuper\u001b[0m\u001b[1;33m(\u001b[0m\u001b[1;33m)\u001b[0m\u001b[1;33m.\u001b[0m\u001b[0m__init__\u001b[0m\u001b[1;33m(\u001b[0m\u001b[1;33m)\u001b[0m\u001b[1;33m\u001b[0m\u001b[1;33m\u001b[0m\u001b[0m\n\u001b[0;32m      4\u001b[0m         \u001b[0mself\u001b[0m\u001b[1;33m.\u001b[0m\u001b[0mheadings\u001b[0m \u001b[1;33m=\u001b[0m \u001b[1;33m[\u001b[0m\u001b[1;33m]\u001b[0m\u001b[1;33m\u001b[0m\u001b[1;33m\u001b[0m\u001b[0m\n\u001b[0;32m      5\u001b[0m         \u001b[0mself\u001b[0m\u001b[1;33m.\u001b[0m\u001b[0mindent\u001b[0m \u001b[1;33m=\u001b[0m \u001b[1;36m0\u001b[0m\u001b[1;33m\u001b[0m\u001b[1;33m\u001b[0m\u001b[0m\n",
      "\u001b[1;31mNameError\u001b[0m: name 'HTMLParser' is not defined"
     ]
    }
   ],
   "source": [
    "class HeadingParser(HTMLParser):\n",
    "    def __init__(self):\n",
    "        super().__init__()\n",
    "        self.headings = []\n",
    "        self.indent = 0\n",
    "\n",
    "    def handle_starttag(self, tag, attrs):\n",
    "        if tag.startswith('h'):\n",
    "            self.indent = int(tag[1]) - 1\n",
    "\n",
    "    def handle_endtag(self, tag):\n",
    "        if tag.startswith('h'):\n",
    "            self.indent = 0\n",
    "\n",
    "    def handle_data(self, data):\n",
    "        heading = data.strip()\n",
    "        if heading and self.indent >= len(self.headings):\n",
    "            self.headings.append(heading)\n",
    "            print(' ' * self.indent + heading)\n",
    "\n",
    "    def get_headings(self):\n",
    "        return self.headings\n",
    "infile = open('w3c.html')\n",
    "content = infile.read()\n",
    "infile.close()\n",
    "\n",
    "hp = HeadingParser()\n",
    "hp.feed(content)\n",
    "\n"
   ]
  },
  {
   "cell_type": "markdown",
   "id": "3aba1ec9",
   "metadata": {},
   "source": [
    "# Question-7"
   ]
  },
  {
   "cell_type": "code",
   "execution_count": 4,
   "id": "7bd90550",
   "metadata": {},
   "outputs": [
    {
     "name": "stdout",
     "output_type": "stream",
     "text": [
      "https://www.yahoo.com/\n",
      " https://www.yahoo.com/\n",
      " https://login.yahoo.com/?.lang=en-US&src=homepage\n",
      " https://mail.yahoo.com/\n",
      " https://news.yahoo.com/\n",
      " https://finance.yahoo.com/\n",
      " https://sports.yahoo.com/\n",
      " https://www.yahoo.com/entertainment/\n",
      " https://www.yahoo.com/lifestyle/\n",
      " https://shopping.yahoo.com/\n",
      " https://www.yahoo.com/plus?ncid=mbr_ryhacqnav00000038\n",
      " https://www.yahoo.com/everything/\n",
      " https://news.yahoo.com/china-calls-russia-ukraine-cease-014840192.html\n",
      " https://www.yahoo.com/entertainment/paris-hilton-says-she-drugged-110838786.html\n",
      " https://sports.yahoo.com/psv-fan-punches-sevilla-goalkeeper-marko-dmitrovic-who-instantly-takes-him-down-215334505.html\n",
      " https://finance.yahoo.com/news/exclusive-hyundai-divest-alabama-subsidiary-070312435.html\n",
      " https://news.yahoo.com/records-could-fall-dominos-week-162757577.html\n",
      " https://news.yahoo.com/rv-community-giant-carter-peanut-042216783.html\n",
      " https://sports.yahoo.com/jeff-bezos-reportedly-hires-firm-to-help-with-potential-commanders-bid-173422320.html\n",
      " https://sports.yahoo.com/pitchers-are-adamant-mlbs-pitch-clock-will-give-them-an-edge-over-hitters-will-spring-training-games-prove-it-175136106.html\n",
      " https://finance.yahoo.com/news/fed-inflation-fight-longer-pce-index-173353572.html\n",
      " https://www.yahoo.com/entertainment/bloodsport-jean-claude-van-damme-behind-the-scenes-160011995.html\n",
      " https://finance.yahoo.com/news/seniors-this-years-big-increase-in-social-security-benefits-is-falling-short-164027635.html\n",
      " https://sports.yahoo.com/2023-nfl-mock-draft-40-qb-prospect-makes-big-jump-into-top-10-as-scouting-combine-beckons-012127452.html\n",
      " https://autos.yahoo.com/carvanas-losses-deepen-times-9-231800343.html\n",
      " https://finance.yahoo.com/news/netflix-cuts-prices-in-over-30-countries-191309892.html\n",
      " https://finance.yahoo.com/news/youtube-testing-1080p-premium-playback-option-112835174.html\n",
      " https://news.yahoo.com/east-palestine-drinking-water-officials-photo-ops-devils-milkshake-224415127.html\n",
      " https://finance.yahoo.com/news/stock-market-news-today-february-24-2023-104349492.html\n",
      " https://sports.yahoo.com/ncaa-womens-final-top-16-bracket-reveal-utah-overtakes-uconn-for-final-no-1-seed-after-huskies-rough-week-013730254.html\n",
      " https://www.yahoo.com/entertainment/anthony-mackie-we-have-a-ghost-believes-paranormal-david-harbour-interview-021519870.html\n",
      " https://techcrunch.com/2023/02/23/google-photos-ai-powered-magic-eraser-is-now-a-google-one-subscription-perk/\n",
      " https://news.yahoo.com/alex-murdaugh-testifies-at-his-murder-trial-185530121.html\n",
      " https://news.yahoo.com/dmxs-10-year-old-daughter-plans-to-create-a-docuseries-on-drug-addiction-as-fentanyl-overdoses-surge-in-adolescents-194500945.html\n",
      " https://finance.yahoo.com/news/mortgage-rates-surge-closer-to-7-170055036.html\n",
      " https://sports.yahoo.com/ncaa-and-miami-agree-to-penalties-relating-to-recruitment-of-haley-and-hanna-cavinder-172344947.html\n",
      " https://sports.yahoo.com/rihannas-halftime-show-reportedly-drew-most-of-the-fccs-103-complaints-about-super-bowl-lvii-broadcast-153858765.html\n",
      " https://sports.yahoo.com/rams-and-lb-bobby-wagner-part-ways-after-1st-year-of-5-year-50-million-deal-220352747.html\n",
      " https://www.yahoo.com/lifestyle/redditor-tells-men-to-stop-approaching-women-when-theyre-exercising-please-leave-them-alone-002802798.html\n",
      " https://www.yahoo.com/lifestyle/teacher-asks-high-school-students-221802398.html\n",
      " https://news.yahoo.com/abortion-pill-ban-canada-180022210.html\n",
      " https://www.yahoo.com/sports/m/733220b1-6f64-36a9-91fa-cceba8fb5269/ou-ucla-highlights-busy.html\n",
      " https://finance.yahoo.com/news/hacker-group-defaces-russian-websites-151327717.html\n",
      " https://www.yahoo.com/lifestyle/prince-harry-meghan-markle-salmon-recipe-193312694.html\n",
      " https://sports.yahoo.com/nhl-blues-coach-berube-rips-into-top-players-they-dont-play-with-any-passion-141448298.html\n",
      " https://news.yahoo.com/defiantly-russian-officials-celebrate-their-military-in-washington-183948871.html\n",
      " https://www.yahoo.com/sports/m/c4b6a0cc-91e6-3c2b-9dd7-90c132913064/nate-oats-leaves-door-open.html\n",
      " https://www.yahoo.com/lifestyle/amazon-device-sale-181127433.html\n",
      " https://www.yahoo.com/entertainment/jay-hernandez-role-recall-magnum-pi-suicide-squad-david-ayer-crazy-beautiful-kirsten-dunst-150052853.html\n",
      " https://www.yahoo.com/lifestyle/teen-girls-open-tiktok-discussion-161534167.html\n",
      " https://finance.yahoo.com/news/humanity-was-the-most-interesting-game-at-sonys-state-of-play-and-you-can-play-a-demo-today-215456616.html\n",
      " https://sports.yahoo.com/ole-miss-fires-mens-basketball-coach-kermit-davis-143709857.html\n",
      " https://finance.yahoo.com/news/warner-bros-discovery-continues-lose-160717088.html\n",
      " https://www.yahoo.com/lifestyle/10-deals-t-skip-nordstrom-230502038.html\n",
      " https://finance.yahoo.com/news/heres-some-bad-news-for-employees-looking-for-raises-remote-work-and-shorter-work-weeks-203048824.html\n",
      " https://finance.yahoo.com/news/amazon-joins-india-backed-e-074350122.html\n",
      " https://sports.yahoo.com/parents-of-shooting-victim-call-brandon-millers-continued-play-for-alabama-unimaginable-232652405.html\n",
      " http://www.yahoo.com/?page=2\n",
      " https://search.yahoo.com/search?p=Alex+Murdaugh+Trial&fr=fp-tts&fr2=p:fp,m:tn,ct:all,kt:org,pg:1,stl:txt,b:\n",
      " https://search.yahoo.com/search?p=Russia-Ukraine+Conflict&fr=fp-tts&fr2=p:fp,m:tn,ct:all,kt:org,pg:1,stl:txt,b:\n",
      " https://search.yahoo.com/search?p=Air+Fryer+Recall&fr=fp-tts&fr2=p:fp,m:tn,ct:all,kt:org,pg:1,stl:txt,b:\n",
      " https://search.yahoo.com/search?p=Donald+Trump&fr=fp-tts&fr2=p:fp,m:tn,ct:all,kt:org,pg:1,stl:txt,b:\n",
      " https://search.yahoo.com/search?p=Aaron+Rodgers&fr=fp-tts&fr2=p:fp,m:tn,ct:all,kt:org,pg:1,stl:txt,b:\n",
      " https://search.yahoo.com/search?p=Little+Rock+Plane+Crash&fr=fp-tts&fr2=p:fp,m:tn,ct:all,kt:org,pg:1,stl:txt,b:\n",
      " https://search.yahoo.com/search?p=Cocaine+Bear&fr=fp-tts&fr2=p:fp,m:tn,ct:all,kt:org,pg:1,stl:txt,b:\n",
      " https://search.yahoo.com/search?p=Portland+Weather&fr=fp-tts&fr2=p:fp,m:tn,ct:all,kt:org,pg:1,stl:txt,b:\n",
      " https://search.yahoo.com/search?p=Tom+Brady&fr=fp-tts&fr2=p:fp,m:tn,ct:all,kt:org,pg:1,stl:txt,b:\n",
      " https://search.yahoo.com/search?p=Jimmy+Carter&fr=fp-tts&fr2=p:fp,m:tn,ct:all,kt:org,pg:1,stl:txt,b:\n",
      " https://www.yahoo.com/news/weather/forecast/4097\n",
      " https://login.yahoo.com/account/preferences?lang=en-US&region=US\n",
      " https://sports.yahoo.com/nba/miami-heat-milwaukee-bucks-2023022415/\n",
      " https://sports.yahoo.com/nba/sacramento-kings-los-angeles-clippers-2023022412/\n",
      " https://sports.yahoo.com/nba/cleveland-cavaliers-atlanta-hawks-2023022401/\n",
      " https://sports.yahoo.com\n"
     ]
    }
   ],
   "source": [
    "import urllib.request\n",
    "from urllib.parse import urljoin\n",
    "from html.parser import HTMLParser\n",
    "\n",
    "class LinkParser(HTMLParser):\n",
    "    def __init__(self, base_url):\n",
    "        super().__init__()\n",
    "        self.base_url = base_url\n",
    "        self.links = []\n",
    "\n",
    "    def handle_starttag(self, tag, attrs):\n",
    "        if tag == 'a':\n",
    "            for attr, value in attrs:\n",
    "                if attr == 'href':\n",
    "                    url = urljoin(self.base_url, value)\n",
    "                    if url not in self.links:\n",
    "                        self.links.append(url)\n",
    "\n",
    "def webdir(url, depth, indent):\n",
    "    if depth == 0:\n",
    "        return\n",
    "    print(' ' * indent + url)\n",
    "    try:\n",
    "        with urllib.request.urlopen(url) as response:\n",
    "            if response.getheader('Content-Type').startswith('text/html'):\n",
    "                content = response.read().decode()\n",
    "                parser = LinkParser(url)\n",
    "                parser.feed(content)\n",
    "                for link in parser.links:\n",
    "                    webdir(link, depth - 1, indent + 1)\n",
    "    except:\n",
    "        return\n",
    "\n",
    "\n",
    "webdir('https://www.yahoo.com/', 2, 0)"
   ]
  },
  {
   "cell_type": "markdown",
   "id": "38873b37",
   "metadata": {},
   "source": [
    "# Question-8"
   ]
  },
  {
   "cell_type": "code",
   "execution_count": 7,
   "id": "d8d6887e",
   "metadata": {},
   "outputs": [
    {
     "name": "stdout",
     "output_type": "stream",
     "text": [
      "a) All the temperature data.\n",
      "\n",
      "City: Mumbai,Temperature: 24.8\n",
      "City: Mumbai,Temperature: 28.4\n",
      "City: Mumbai,Temperature: 27.9\n",
      "City: Mumbai,Temperature: 27.6\n",
      "City: London,Temperature: 4.2\n",
      "City: London,Temperature: 8.3\n",
      "City: London,Temperature: 15.7\n",
      "City: London,Temperature: 10.4\n",
      "City: Cairo,Temperature: 13.6\n",
      "City: Cairo,Temperature: 20.7\n",
      "City: Cairo,Temperature: 27.7\n",
      "City: Cairo,Temperature: 22.2\n",
      "\n",
      "\n",
      "B) All the cities, but without repetition.\n",
      "\n",
      "City: Mumbai\n",
      "City: London\n",
      "City: Cairo\n",
      "\n",
      "\n",
      "C) All the records for India.\n",
      "\n",
      "('Mumbai', 'India', 'Winter', 24.8, 5.9)\n",
      "('Mumbai', 'India', 'Spring', 28.4, 16.2)\n",
      "('Mumbai', 'India', 'Summer', 27.9, 1549.4)\n",
      "('Mumbai', 'India', 'Fall', 27.6, 346.0)\n",
      "\n",
      "\n",
      "D) All the Fall records.\n",
      "\n",
      "('Mumbai', 'India', 'Fall', 27.6, 346.0)\n",
      "('London', 'United Kingdom', 'Fall', 10.4, 218.5)\n",
      "('Cairo', 'Egypt', 'Fall', 22.2, 4.5)\n",
      "\n",
      "\n",
      "E) The city, country, and season for which the average rainfall is between 200 and 400 millimeters.\n",
      "\n",
      "('London', 'United Kingdom', 'Fall')\n",
      "('London', 'United Kingdom', 'Winter')\n",
      "('Mumbai', 'India', 'Fall')\n",
      "\n",
      "\n",
      "F) The city and country for which the average Fall temperature is above 20 degrees, in increasing temperature order\n",
      "\n",
      "('Cairo', 'Egypt')\n",
      "('Mumbai', 'India')\n",
      "\n",
      "\n",
      "G) The total annual rainfall for Cairo.\n",
      "\n",
      "(27.6,)\n",
      "\n",
      "\n",
      "H) The total rainfall for each season.\n",
      "\n",
      "('Fall', 569.0)\n",
      "('Spring', 192.29999999999998)\n",
      "('Summer', 1706.5)\n",
      "('Winter', 230.1)\n"
     ]
    }
   ],
   "source": [
    "import pandas as pd\n",
    "\n",
    "\n",
    "import sqlite3\n",
    "\n",
    "# Creating sqlite3 database\n",
    "conn = sqlite3.connect('Weatherdata.db')\n",
    "\n",
    "# Creating table called WorldTable\n",
    "\n",
    "conn.execute('''CREATE TABLE WeatherData\n",
    "            (City TEXT, Country TEXT, Season TEXT, Temperature FLOAT, Rainfall FLOAT)''')\n",
    "\n",
    "# Inserting data into the WorldTable table\n",
    "conn.execute(\"INSERT INTO WeatherData (City, Country, Season, Temperature, Rainfall) VALUES ('Mumbai', 'India', 'Winter', 24.8, 5.9)\")\n",
    "conn.execute(\"INSERT INTO WeatherData (City, Country, Season, Temperature, Rainfall) VALUES ('Mumbai', 'India', 'Spring', 28.4, 16.2)\")\n",
    "conn.execute(\"INSERT INTO WeatherData (City, Country, Season, Temperature, Rainfall) VALUES ('Mumbai', 'India', 'Summer', 27.9, 1549.4)\")\n",
    "conn.execute(\"INSERT INTO WeatherData (City, Country, Season, Temperature, Rainfall) VALUES ('Mumbai', 'India', 'Fall', 27.6, 346.0)\")\n",
    "conn.execute(\"INSERT INTO WeatherData (City, Country, Season, Temperature, Rainfall) VALUES ('London' , 'United Kingdom' , 'Winter' , 4.2,207.7)\")\n",
    "conn.execute(\"INSERT INTO WeatherData (City, Country, Season, Temperature, Rainfall) VALUES ('London' , 'United Kingdom' , 'Spring' , 8.3,169.6)\")\n",
    "conn.execute(\"INSERT INTO WeatherData (City, Country, Season, Temperature, Rainfall) VALUES ('London' , 'United Kingdom' , 'Summer' , 15.7,157.0)\")\n",
    "conn.execute(\"INSERT INTO WeatherData (City, Country, Season, Temperature, Rainfall) VALUES ('London' , 'United Kingdom' , 'Fall' , 10.4,218.5)\")\n",
    "conn.execute(\"INSERT INTO WeatherData (City, Country, Season, Temperature, Rainfall) VALUES ('Cairo', 'Egypt', 'Winter' , 13.6, 16.5)\")\n",
    "conn.execute(\"INSERT INTO WeatherData (City, Country, Season, Temperature, Rainfall) VALUES ('Cairo', 'Egypt', 'Spring' , 20.7, 6.5)\")\n",
    "conn.execute(\"INSERT INTO WeatherData (City, Country, Season, Temperature, Rainfall) VALUES ('Cairo', 'Egypt', 'Summer' , 27.7, 0.1)\")\n",
    "conn.execute(\"INSERT INTO WeatherData (City, Country, Season, Temperature, Rainfall) VALUES ('Cairo', 'Egypt', 'Fall' , 22.2, 4.5)\")\n",
    "query1 = conn.execute(\"SELECT * FROM WeatherData\")\n",
    "print(\"a) All the temperature data.\\n\")                      \n",
    "for row in query1:\n",
    "    print(f\"City: {row[0]},Temperature: {row[3]}\")\n",
    "    \n",
    "print(\"\\n\")    \n",
    "print(\"B) All the cities, but without repetition.\\n\")\n",
    "query2 = conn.execute(\"Select distinct(City) from WeatherData\")\n",
    "\n",
    "for row in query2:\n",
    "    print(f\"City: {row[0]}\")\n",
    "    \n",
    "    \n",
    "print(\"\\n\")    \n",
    "print(\"C) All the records for India.\\n\")\n",
    "query3 = conn.execute(\"SELECT * FROM WeatherData WHERE country='India';\")\n",
    "\n",
    "for row in query3:\n",
    "    print(f\"{row}\")\n",
    "    \n",
    "    \n",
    "print(\"\\n\")    \n",
    "print(\"D) All the Fall records.\\n\")\n",
    "query4 = conn.execute(\"SELECT * FROM WeatherData WHERE season='Fall';\")\n",
    "\n",
    "for row in query4:\n",
    "    print(f\"{row}\")\n",
    "    \n",
    "\n",
    "print(\"\\n\")    \n",
    "print(\"E) The city, country, and season for which the average rainfall is between 200 and 400 millimeters.\\n\")\n",
    "query5 = conn.execute(\"\"\"SELECT city, country, season\n",
    "            FROM WeatherData\n",
    "            GROUP BY city, country, season\n",
    "            HAVING AVG(rainfall) BETWEEN 200 AND 400;\"\"\")\n",
    "\n",
    "for row in query5:\n",
    "    print(f\"{row}\")\n",
    "    \n",
    "\n",
    "print(\"\\n\")    \n",
    "print(\"F) The city and country for which the average Fall temperature is above 20 degrees, in increasing temperature order\\n\")\n",
    "query6 = conn.execute(\"\"\"SELECT city, country\n",
    "            FROM WeatherData\n",
    "            WHERE season='Fall'\n",
    "            GROUP BY city, country\n",
    "            HAVING AVG(temperature) > 20\n",
    "            ORDER BY AVG(temperature) ASC;\"\"\")    \n",
    "\n",
    "for row in query6:\n",
    "    print(f\"{row}\")\n",
    "    \n",
    "\n",
    "print(\"\\n\")    \n",
    "print(\"G) The total annual rainfall for Cairo.\\n\")\n",
    "query7 = conn.execute(\"SELECT SUM(rainfall) AS total_annual_rainfall FROM WeatherData WHERE city='Cairo';\")\n",
    "\n",
    "for row in query7:\n",
    "    print(f\"{row}\")\n",
    "\n",
    "\n",
    "print(\"\\n\")    \n",
    "print(\"H) The total rainfall for each season.\\n\")\n",
    "query8 = conn.execute(\"SELECT season, SUM(rainfall) AS total_rainfall FROM WeatherData GROUP BY season;\")\n",
    "\n",
    "for row in query8:\n",
    "    print(f\"{row}\")\n",
    "\n",
    "\n",
    "# Commit changes and close the connection\n",
    "conn.commit()\n",
    "conn.close()"
   ]
  },
  {
   "cell_type": "markdown",
   "id": "95fd9307",
   "metadata": {},
   "source": [
    "# Question 9"
   ]
  },
  {
   "cell_type": "code",
   "execution_count": 10,
   "id": "a4d29c24",
   "metadata": {},
   "outputs": [
    {
     "name": "stdout",
     "output_type": "stream",
     "text": [
      "A) ['THE', 'QUICK', 'BROWN', 'FOX', 'JUMPS', 'OVER', 'THE', 'LAZY', 'DOG']\n",
      "B) ['the', 'quick', 'brown', 'fox', 'jumps', 'over', 'the', 'lazy', 'dog']\n",
      "C) [3, 5, 5, 3, 5, 4, 3, 4, 3]\n",
      "D) [['THE', 'the', 3], ['QUICK', 'quick', 5], ['BROWN', 'brown', 5], ['FOX', 'fox', 3], ['JUMPS', 'jumps', 5], ['OVER', 'over', 4], ['THE', 'the', 3], ['LAZY', 'lazy', 4], ['DOG', 'dog', 3]]\n",
      "E) ['quick', 'brown', 'jumps', 'over', 'lazy']\n"
     ]
    }
   ],
   "source": [
    "words = ['The', 'quick', 'brown', 'fox', 'jumps', 'over', 'the', 'lazy', 'dog']\n",
    "\n",
    "print(\"A)\",['{}'.format(word.upper()) for word in words])\n",
    "print(\"B)\",['{}'.format(word.lower()) for word in words])\n",
    "print(\"C)\",[len(word) for word in words])\n",
    "print(\"D)\",[[word.upper(), word.lower(), len(word)] for word in words])\n",
    "print(\"E)\",[word for word in words if len(word)>=4])"
   ]
  },
  {
   "cell_type": "code",
   "execution_count": null,
   "id": "19054ddb",
   "metadata": {},
   "outputs": [],
   "source": []
  }
 ],
 "metadata": {
  "kernelspec": {
   "display_name": "Python 3 (ipykernel)",
   "language": "python",
   "name": "python3"
  },
  "language_info": {
   "codemirror_mode": {
    "name": "ipython",
    "version": 3
   },
   "file_extension": ".py",
   "mimetype": "text/x-python",
   "name": "python",
   "nbconvert_exporter": "python",
   "pygments_lexer": "ipython3",
   "version": "3.9.13"
  }
 },
 "nbformat": 4,
 "nbformat_minor": 5
}
